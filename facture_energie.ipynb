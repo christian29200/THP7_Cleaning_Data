{
 "cells": [
  {
   "cell_type": "code",
   "execution_count": 130,
   "id": "5548ec1b",
   "metadata": {},
   "outputs": [],
   "source": [
    "import pandas as pd\n"
   ]
  },
  {
   "cell_type": "code",
   "execution_count": 131,
   "id": "3eeb419c",
   "metadata": {},
   "outputs": [],
   "source": [
    "df = pd.read_csv('./data/Invoice_20201220.csv', sep='|')"
   ]
  },
  {
   "cell_type": "code",
   "execution_count": 132,
   "id": "680d64bd",
   "metadata": {},
   "outputs": [
    {
     "data": {
      "text/html": [
       "<div>\n",
       "<style scoped>\n",
       "    .dataframe tbody tr th:only-of-type {\n",
       "        vertical-align: middle;\n",
       "    }\n",
       "\n",
       "    .dataframe tbody tr th {\n",
       "        vertical-align: top;\n",
       "    }\n",
       "\n",
       "    .dataframe thead th {\n",
       "        text-align: right;\n",
       "    }\n",
       "</style>\n",
       "<table border=\"1\" class=\"dataframe\">\n",
       "  <thead>\n",
       "    <tr style=\"text-align: right;\">\n",
       "      <th></th>\n",
       "      <th>SITE_NAME</th>\n",
       "      <th>INVOICE_NAME</th>\n",
       "      <th>BEGIN</th>\n",
       "      <th>END</th>\n",
       "      <th>KWH_PERIOD</th>\n",
       "      <th>PERIOD_EUR</th>\n",
       "    </tr>\n",
       "  </thead>\n",
       "  <tbody>\n",
       "    <tr>\n",
       "      <th>0</th>\n",
       "      <td>12345_GEO (0001BB)</td>\n",
       "      <td>1300082549</td>\n",
       "      <td>01/01/2018</td>\n",
       "      <td>31/01/2018</td>\n",
       "      <td>2 447</td>\n",
       "      <td>316,46</td>\n",
       "    </tr>\n",
       "    <tr>\n",
       "      <th>1</th>\n",
       "      <td>12345_GEO (0001BB)</td>\n",
       "      <td>1300082549</td>\n",
       "      <td>01/02/2018</td>\n",
       "      <td>28/02/2018</td>\n",
       "      <td>2 211</td>\n",
       "      <td>286,82</td>\n",
       "    </tr>\n",
       "    <tr>\n",
       "      <th>2</th>\n",
       "      <td>12345_GEO (0001BB)</td>\n",
       "      <td>1300082549</td>\n",
       "      <td>01/03/2018</td>\n",
       "      <td>31/03/2018</td>\n",
       "      <td>2 450</td>\n",
       "      <td>317,32</td>\n",
       "    </tr>\n",
       "    <tr>\n",
       "      <th>3</th>\n",
       "      <td>12345_GEO (0001BB)</td>\n",
       "      <td>1300082549</td>\n",
       "      <td>01/04/2018</td>\n",
       "      <td>30/04/2018</td>\n",
       "      <td>2 431</td>\n",
       "      <td>315,00</td>\n",
       "    </tr>\n",
       "    <tr>\n",
       "      <th>4</th>\n",
       "      <td>12345_GEO (0001BB)</td>\n",
       "      <td>1300082549</td>\n",
       "      <td>01/05/2018</td>\n",
       "      <td>31/05/2018</td>\n",
       "      <td>2 574</td>\n",
       "      <td>333,37</td>\n",
       "    </tr>\n",
       "    <tr>\n",
       "      <th>...</th>\n",
       "      <td>...</td>\n",
       "      <td>...</td>\n",
       "      <td>...</td>\n",
       "      <td>...</td>\n",
       "      <td>...</td>\n",
       "      <td>...</td>\n",
       "    </tr>\n",
       "    <tr>\n",
       "      <th>51427</th>\n",
       "      <td>19767_GEO (0632KO)</td>\n",
       "      <td>FV1/055100030</td>\n",
       "      <td>30/08/2019</td>\n",
       "      <td>31/12/2019</td>\n",
       "      <td>3 028</td>\n",
       "      <td>397,18</td>\n",
       "    </tr>\n",
       "    <tr>\n",
       "      <th>51428</th>\n",
       "      <td>19767_GEO (0632KO)</td>\n",
       "      <td>055100058</td>\n",
       "      <td>01/01/2020</td>\n",
       "      <td>31/03/2020</td>\n",
       "      <td>2 163</td>\n",
       "      <td>283,57</td>\n",
       "    </tr>\n",
       "    <tr>\n",
       "      <th>51429</th>\n",
       "      <td>19767_GEO (0632KO)</td>\n",
       "      <td>055100113</td>\n",
       "      <td>01/04/2020</td>\n",
       "      <td>30/06/2020</td>\n",
       "      <td>2 160</td>\n",
       "      <td>312,55</td>\n",
       "    </tr>\n",
       "    <tr>\n",
       "      <th>51430</th>\n",
       "      <td>19767_GEO (0632KO)</td>\n",
       "      <td>055100168</td>\n",
       "      <td>01/07/2020</td>\n",
       "      <td>30/09/2020</td>\n",
       "      <td>2 230</td>\n",
       "      <td>294,07</td>\n",
       "    </tr>\n",
       "    <tr>\n",
       "      <th>51431</th>\n",
       "      <td>19883_GEO (1203KO)</td>\n",
       "      <td>7220278453</td>\n",
       "      <td>27/09/2019</td>\n",
       "      <td>31/12/2019</td>\n",
       "      <td>4 745</td>\n",
       "      <td>681,96</td>\n",
       "    </tr>\n",
       "  </tbody>\n",
       "</table>\n",
       "<p>51432 rows × 6 columns</p>\n",
       "</div>"
      ],
      "text/plain": [
       "                SITE_NAME   INVOICE_NAME       BEGIN         END KWH_PERIOD  \\\n",
       "0      12345_GEO (0001BB)     1300082549  01/01/2018  31/01/2018      2 447   \n",
       "1      12345_GEO (0001BB)     1300082549  01/02/2018  28/02/2018      2 211   \n",
       "2      12345_GEO (0001BB)     1300082549  01/03/2018  31/03/2018      2 450   \n",
       "3      12345_GEO (0001BB)     1300082549  01/04/2018  30/04/2018      2 431   \n",
       "4      12345_GEO (0001BB)     1300082549  01/05/2018  31/05/2018      2 574   \n",
       "...                   ...            ...         ...         ...        ...   \n",
       "51427  19767_GEO (0632KO)  FV1/055100030  30/08/2019  31/12/2019      3 028   \n",
       "51428  19767_GEO (0632KO)      055100058  01/01/2020  31/03/2020      2 163   \n",
       "51429  19767_GEO (0632KO)      055100113  01/04/2020  30/06/2020      2 160   \n",
       "51430  19767_GEO (0632KO)      055100168  01/07/2020  30/09/2020      2 230   \n",
       "51431  19883_GEO (1203KO)     7220278453  27/09/2019  31/12/2019      4 745   \n",
       "\n",
       "      PERIOD_EUR  \n",
       "0         316,46  \n",
       "1         286,82  \n",
       "2         317,32  \n",
       "3         315,00  \n",
       "4         333,37  \n",
       "...          ...  \n",
       "51427     397,18  \n",
       "51428     283,57  \n",
       "51429     312,55  \n",
       "51430     294,07  \n",
       "51431     681,96  \n",
       "\n",
       "[51432 rows x 6 columns]"
      ]
     },
     "execution_count": 132,
     "metadata": {},
     "output_type": "execute_result"
    }
   ],
   "source": [
    "df"
   ]
  },
  {
   "cell_type": "code",
   "execution_count": 133,
   "id": "c71e173c",
   "metadata": {},
   "outputs": [],
   "source": [
    "df[\"SITE_NAME\"] = df[\"SITE_NAME\"].str[11:17]"
   ]
  },
  {
   "cell_type": "code",
   "execution_count": 134,
   "id": "6ec52052",
   "metadata": {},
   "outputs": [
    {
     "data": {
      "text/plain": [
       "0        0001BB\n",
       "1        0001BB\n",
       "2        0001BB\n",
       "3        0001BB\n",
       "4        0001BB\n",
       "          ...  \n",
       "51427    0632KO\n",
       "51428    0632KO\n",
       "51429    0632KO\n",
       "51430    0632KO\n",
       "51431    1203KO\n",
       "Name: SITE_NAME, Length: 51432, dtype: object"
      ]
     },
     "execution_count": 134,
     "metadata": {},
     "output_type": "execute_result"
    }
   ],
   "source": [
    "df[\"SITE_NAME\"]"
   ]
  },
  {
   "cell_type": "code",
   "execution_count": 135,
   "id": "7498fc58",
   "metadata": {},
   "outputs": [
    {
     "name": "stdout",
     "output_type": "stream",
     "text": [
      "Il y a 51432 features  et 6 colomnes dans cette dataframe.\n"
     ]
    }
   ],
   "source": [
    "print(f\"Il y a {df.shape[0]} features  et {df.shape[1]} colomnes dans cette dataframe.\")"
   ]
  },
  {
   "cell_type": "code",
   "execution_count": 136,
   "id": "994c5319",
   "metadata": {},
   "outputs": [
    {
     "name": "stdout",
     "output_type": "stream",
     "text": [
      "Voici les noms des colomnes :\n",
      "SITE_NAME\n",
      "INVOICE_NAME\n",
      "BEGIN\n",
      "END\n",
      "KWH_PERIOD\n",
      "PERIOD_EUR\n"
     ]
    }
   ],
   "source": [
    "print(f\"Voici les noms des colomnes :\")\n",
    "for i in df.columns:\n",
    "    print(i)"
   ]
  },
  {
   "cell_type": "code",
   "execution_count": 137,
   "id": "f242a233",
   "metadata": {},
   "outputs": [
    {
     "name": "stdout",
     "output_type": "stream",
     "text": [
      "<class 'pandas.core.frame.DataFrame'>\n",
      "RangeIndex: 51432 entries, 0 to 51431\n",
      "Data columns (total 6 columns):\n",
      " #   Column        Non-Null Count  Dtype \n",
      "---  ------        --------------  ----- \n",
      " 0   SITE_NAME     51432 non-null  object\n",
      " 1   INVOICE_NAME  51432 non-null  object\n",
      " 2   BEGIN         51432 non-null  object\n",
      " 3   END           51432 non-null  object\n",
      " 4   KWH_PERIOD    51432 non-null  object\n",
      " 5   PERIOD_EUR    51432 non-null  object\n",
      "dtypes: object(6)\n",
      "memory usage: 2.4+ MB\n"
     ]
    }
   ],
   "source": [
    "df.info()"
   ]
  },
  {
   "cell_type": "code",
   "execution_count": 138,
   "id": "c4390310",
   "metadata": {},
   "outputs": [
    {
     "data": {
      "text/html": [
       "<div>\n",
       "<style scoped>\n",
       "    .dataframe tbody tr th:only-of-type {\n",
       "        vertical-align: middle;\n",
       "    }\n",
       "\n",
       "    .dataframe tbody tr th {\n",
       "        vertical-align: top;\n",
       "    }\n",
       "\n",
       "    .dataframe thead th {\n",
       "        text-align: right;\n",
       "    }\n",
       "</style>\n",
       "<table border=\"1\" class=\"dataframe\">\n",
       "  <thead>\n",
       "    <tr style=\"text-align: right;\">\n",
       "      <th></th>\n",
       "      <th>SITE_NAME</th>\n",
       "      <th>INVOICE_NAME</th>\n",
       "      <th>BEGIN</th>\n",
       "      <th>END</th>\n",
       "      <th>KWH_PERIOD</th>\n",
       "      <th>PERIOD_EUR</th>\n",
       "    </tr>\n",
       "  </thead>\n",
       "  <tbody>\n",
       "    <tr>\n",
       "      <th>count</th>\n",
       "      <td>51432</td>\n",
       "      <td>51432</td>\n",
       "      <td>51432</td>\n",
       "      <td>51432</td>\n",
       "      <td>51432</td>\n",
       "      <td>51432</td>\n",
       "    </tr>\n",
       "    <tr>\n",
       "      <th>unique</th>\n",
       "      <td>2403</td>\n",
       "      <td>7494</td>\n",
       "      <td>324</td>\n",
       "      <td>340</td>\n",
       "      <td>7940</td>\n",
       "      <td>30560</td>\n",
       "    </tr>\n",
       "    <tr>\n",
       "      <th>top</th>\n",
       "      <td>1600BR</td>\n",
       "      <td>1300082549</td>\n",
       "      <td>01/01/2019</td>\n",
       "      <td>31/12/2019</td>\n",
       "      <td>0</td>\n",
       "      <td>52,85</td>\n",
       "    </tr>\n",
       "    <tr>\n",
       "      <th>freq</th>\n",
       "      <td>105</td>\n",
       "      <td>5830</td>\n",
       "      <td>2355</td>\n",
       "      <td>2375</td>\n",
       "      <td>59</td>\n",
       "      <td>35</td>\n",
       "    </tr>\n",
       "  </tbody>\n",
       "</table>\n",
       "</div>"
      ],
      "text/plain": [
       "       SITE_NAME INVOICE_NAME       BEGIN         END KWH_PERIOD PERIOD_EUR\n",
       "count      51432        51432       51432       51432      51432      51432\n",
       "unique      2403         7494         324         340       7940      30560\n",
       "top       1600BR   1300082549  01/01/2019  31/12/2019          0      52,85\n",
       "freq         105         5830        2355        2375         59         35"
      ]
     },
     "execution_count": 138,
     "metadata": {},
     "output_type": "execute_result"
    }
   ],
   "source": [
    "df.describe()"
   ]
  },
  {
   "cell_type": "code",
   "execution_count": 139,
   "id": "4c9a5020",
   "metadata": {},
   "outputs": [
    {
     "data": {
      "text/html": [
       "<div>\n",
       "<style scoped>\n",
       "    .dataframe tbody tr th:only-of-type {\n",
       "        vertical-align: middle;\n",
       "    }\n",
       "\n",
       "    .dataframe tbody tr th {\n",
       "        vertical-align: top;\n",
       "    }\n",
       "\n",
       "    .dataframe thead th {\n",
       "        text-align: right;\n",
       "    }\n",
       "</style>\n",
       "<table border=\"1\" class=\"dataframe\">\n",
       "  <thead>\n",
       "    <tr style=\"text-align: right;\">\n",
       "      <th></th>\n",
       "      <th>SITE_NAME</th>\n",
       "      <th>INVOICE_NAME</th>\n",
       "      <th>BEGIN</th>\n",
       "      <th>END</th>\n",
       "      <th>KWH_PERIOD</th>\n",
       "      <th>PERIOD_EUR</th>\n",
       "    </tr>\n",
       "  </thead>\n",
       "  <tbody>\n",
       "    <tr>\n",
       "      <th>0</th>\n",
       "      <td>0001BB</td>\n",
       "      <td>1300082549</td>\n",
       "      <td>01/01/2018</td>\n",
       "      <td>31/01/2018</td>\n",
       "      <td>2 447</td>\n",
       "      <td>316,46</td>\n",
       "    </tr>\n",
       "    <tr>\n",
       "      <th>1</th>\n",
       "      <td>0001BB</td>\n",
       "      <td>1300082549</td>\n",
       "      <td>01/02/2018</td>\n",
       "      <td>28/02/2018</td>\n",
       "      <td>2 211</td>\n",
       "      <td>286,82</td>\n",
       "    </tr>\n",
       "    <tr>\n",
       "      <th>2</th>\n",
       "      <td>0001BB</td>\n",
       "      <td>1300082549</td>\n",
       "      <td>01/03/2018</td>\n",
       "      <td>31/03/2018</td>\n",
       "      <td>2 450</td>\n",
       "      <td>317,32</td>\n",
       "    </tr>\n",
       "    <tr>\n",
       "      <th>3</th>\n",
       "      <td>0001BB</td>\n",
       "      <td>1300082549</td>\n",
       "      <td>01/04/2018</td>\n",
       "      <td>30/04/2018</td>\n",
       "      <td>2 431</td>\n",
       "      <td>315,00</td>\n",
       "    </tr>\n",
       "    <tr>\n",
       "      <th>4</th>\n",
       "      <td>0001BB</td>\n",
       "      <td>1300082549</td>\n",
       "      <td>01/05/2018</td>\n",
       "      <td>31/05/2018</td>\n",
       "      <td>2 574</td>\n",
       "      <td>333,37</td>\n",
       "    </tr>\n",
       "    <tr>\n",
       "      <th>...</th>\n",
       "      <td>...</td>\n",
       "      <td>...</td>\n",
       "      <td>...</td>\n",
       "      <td>...</td>\n",
       "      <td>...</td>\n",
       "      <td>...</td>\n",
       "    </tr>\n",
       "    <tr>\n",
       "      <th>51427</th>\n",
       "      <td>0632KO</td>\n",
       "      <td>FV1/055100030</td>\n",
       "      <td>30/08/2019</td>\n",
       "      <td>31/12/2019</td>\n",
       "      <td>3 028</td>\n",
       "      <td>397,18</td>\n",
       "    </tr>\n",
       "    <tr>\n",
       "      <th>51428</th>\n",
       "      <td>0632KO</td>\n",
       "      <td>055100058</td>\n",
       "      <td>01/01/2020</td>\n",
       "      <td>31/03/2020</td>\n",
       "      <td>2 163</td>\n",
       "      <td>283,57</td>\n",
       "    </tr>\n",
       "    <tr>\n",
       "      <th>51429</th>\n",
       "      <td>0632KO</td>\n",
       "      <td>055100113</td>\n",
       "      <td>01/04/2020</td>\n",
       "      <td>30/06/2020</td>\n",
       "      <td>2 160</td>\n",
       "      <td>312,55</td>\n",
       "    </tr>\n",
       "    <tr>\n",
       "      <th>51430</th>\n",
       "      <td>0632KO</td>\n",
       "      <td>055100168</td>\n",
       "      <td>01/07/2020</td>\n",
       "      <td>30/09/2020</td>\n",
       "      <td>2 230</td>\n",
       "      <td>294,07</td>\n",
       "    </tr>\n",
       "    <tr>\n",
       "      <th>51431</th>\n",
       "      <td>1203KO</td>\n",
       "      <td>7220278453</td>\n",
       "      <td>27/09/2019</td>\n",
       "      <td>31/12/2019</td>\n",
       "      <td>4 745</td>\n",
       "      <td>681,96</td>\n",
       "    </tr>\n",
       "  </tbody>\n",
       "</table>\n",
       "<p>51432 rows × 6 columns</p>\n",
       "</div>"
      ],
      "text/plain": [
       "      SITE_NAME   INVOICE_NAME       BEGIN         END KWH_PERIOD PERIOD_EUR\n",
       "0        0001BB     1300082549  01/01/2018  31/01/2018      2 447     316,46\n",
       "1        0001BB     1300082549  01/02/2018  28/02/2018      2 211     286,82\n",
       "2        0001BB     1300082549  01/03/2018  31/03/2018      2 450     317,32\n",
       "3        0001BB     1300082549  01/04/2018  30/04/2018      2 431     315,00\n",
       "4        0001BB     1300082549  01/05/2018  31/05/2018      2 574     333,37\n",
       "...         ...            ...         ...         ...        ...        ...\n",
       "51427    0632KO  FV1/055100030  30/08/2019  31/12/2019      3 028     397,18\n",
       "51428    0632KO      055100058  01/01/2020  31/03/2020      2 163     283,57\n",
       "51429    0632KO      055100113  01/04/2020  30/06/2020      2 160     312,55\n",
       "51430    0632KO      055100168  01/07/2020  30/09/2020      2 230     294,07\n",
       "51431    1203KO     7220278453  27/09/2019  31/12/2019      4 745     681,96\n",
       "\n",
       "[51432 rows x 6 columns]"
      ]
     },
     "execution_count": 139,
     "metadata": {},
     "output_type": "execute_result"
    }
   ],
   "source": [
    "df"
   ]
  },
  {
   "cell_type": "markdown",
   "id": "9edb2fec",
   "metadata": {},
   "source": [
    "## Nombre de valeurs manquantes"
   ]
  },
  {
   "cell_type": "code",
   "execution_count": 140,
   "id": "8796c39c",
   "metadata": {},
   "outputs": [
    {
     "data": {
      "text/plain": [
       "SITE_NAME       0\n",
       "INVOICE_NAME    0\n",
       "BEGIN           0\n",
       "END             0\n",
       "KWH_PERIOD      0\n",
       "PERIOD_EUR      0\n",
       "dtype: int64"
      ]
     },
     "execution_count": 140,
     "metadata": {},
     "output_type": "execute_result"
    }
   ],
   "source": [
    "df.isna().sum()"
   ]
  },
  {
   "cell_type": "markdown",
   "id": "5edea8e6",
   "metadata": {},
   "source": [
    "##  Suppression la colonne \"INVOICE_NAME\""
   ]
  },
  {
   "cell_type": "code",
   "execution_count": 141,
   "id": "8e76916a",
   "metadata": {},
   "outputs": [],
   "source": [
    "df = df.drop(columns = \"INVOICE_NAME\")"
   ]
  },
  {
   "cell_type": "code",
   "execution_count": 142,
   "id": "d43b924e",
   "metadata": {},
   "outputs": [
    {
     "data": {
      "text/html": [
       "<div>\n",
       "<style scoped>\n",
       "    .dataframe tbody tr th:only-of-type {\n",
       "        vertical-align: middle;\n",
       "    }\n",
       "\n",
       "    .dataframe tbody tr th {\n",
       "        vertical-align: top;\n",
       "    }\n",
       "\n",
       "    .dataframe thead th {\n",
       "        text-align: right;\n",
       "    }\n",
       "</style>\n",
       "<table border=\"1\" class=\"dataframe\">\n",
       "  <thead>\n",
       "    <tr style=\"text-align: right;\">\n",
       "      <th></th>\n",
       "      <th>SITE_NAME</th>\n",
       "      <th>BEGIN</th>\n",
       "      <th>END</th>\n",
       "      <th>KWH_PERIOD</th>\n",
       "      <th>PERIOD_EUR</th>\n",
       "    </tr>\n",
       "  </thead>\n",
       "  <tbody>\n",
       "    <tr>\n",
       "      <th>0</th>\n",
       "      <td>0001BB</td>\n",
       "      <td>01/01/2018</td>\n",
       "      <td>31/01/2018</td>\n",
       "      <td>2 447</td>\n",
       "      <td>316,46</td>\n",
       "    </tr>\n",
       "    <tr>\n",
       "      <th>1</th>\n",
       "      <td>0001BB</td>\n",
       "      <td>01/02/2018</td>\n",
       "      <td>28/02/2018</td>\n",
       "      <td>2 211</td>\n",
       "      <td>286,82</td>\n",
       "    </tr>\n",
       "    <tr>\n",
       "      <th>2</th>\n",
       "      <td>0001BB</td>\n",
       "      <td>01/03/2018</td>\n",
       "      <td>31/03/2018</td>\n",
       "      <td>2 450</td>\n",
       "      <td>317,32</td>\n",
       "    </tr>\n",
       "    <tr>\n",
       "      <th>3</th>\n",
       "      <td>0001BB</td>\n",
       "      <td>01/04/2018</td>\n",
       "      <td>30/04/2018</td>\n",
       "      <td>2 431</td>\n",
       "      <td>315,00</td>\n",
       "    </tr>\n",
       "    <tr>\n",
       "      <th>4</th>\n",
       "      <td>0001BB</td>\n",
       "      <td>01/05/2018</td>\n",
       "      <td>31/05/2018</td>\n",
       "      <td>2 574</td>\n",
       "      <td>333,37</td>\n",
       "    </tr>\n",
       "    <tr>\n",
       "      <th>...</th>\n",
       "      <td>...</td>\n",
       "      <td>...</td>\n",
       "      <td>...</td>\n",
       "      <td>...</td>\n",
       "      <td>...</td>\n",
       "    </tr>\n",
       "    <tr>\n",
       "      <th>51427</th>\n",
       "      <td>0632KO</td>\n",
       "      <td>30/08/2019</td>\n",
       "      <td>31/12/2019</td>\n",
       "      <td>3 028</td>\n",
       "      <td>397,18</td>\n",
       "    </tr>\n",
       "    <tr>\n",
       "      <th>51428</th>\n",
       "      <td>0632KO</td>\n",
       "      <td>01/01/2020</td>\n",
       "      <td>31/03/2020</td>\n",
       "      <td>2 163</td>\n",
       "      <td>283,57</td>\n",
       "    </tr>\n",
       "    <tr>\n",
       "      <th>51429</th>\n",
       "      <td>0632KO</td>\n",
       "      <td>01/04/2020</td>\n",
       "      <td>30/06/2020</td>\n",
       "      <td>2 160</td>\n",
       "      <td>312,55</td>\n",
       "    </tr>\n",
       "    <tr>\n",
       "      <th>51430</th>\n",
       "      <td>0632KO</td>\n",
       "      <td>01/07/2020</td>\n",
       "      <td>30/09/2020</td>\n",
       "      <td>2 230</td>\n",
       "      <td>294,07</td>\n",
       "    </tr>\n",
       "    <tr>\n",
       "      <th>51431</th>\n",
       "      <td>1203KO</td>\n",
       "      <td>27/09/2019</td>\n",
       "      <td>31/12/2019</td>\n",
       "      <td>4 745</td>\n",
       "      <td>681,96</td>\n",
       "    </tr>\n",
       "  </tbody>\n",
       "</table>\n",
       "<p>51432 rows × 5 columns</p>\n",
       "</div>"
      ],
      "text/plain": [
       "      SITE_NAME       BEGIN         END KWH_PERIOD PERIOD_EUR\n",
       "0        0001BB  01/01/2018  31/01/2018      2 447     316,46\n",
       "1        0001BB  01/02/2018  28/02/2018      2 211     286,82\n",
       "2        0001BB  01/03/2018  31/03/2018      2 450     317,32\n",
       "3        0001BB  01/04/2018  30/04/2018      2 431     315,00\n",
       "4        0001BB  01/05/2018  31/05/2018      2 574     333,37\n",
       "...         ...         ...         ...        ...        ...\n",
       "51427    0632KO  30/08/2019  31/12/2019      3 028     397,18\n",
       "51428    0632KO  01/01/2020  31/03/2020      2 163     283,57\n",
       "51429    0632KO  01/04/2020  30/06/2020      2 160     312,55\n",
       "51430    0632KO  01/07/2020  30/09/2020      2 230     294,07\n",
       "51431    1203KO  27/09/2019  31/12/2019      4 745     681,96\n",
       "\n",
       "[51432 rows x 5 columns]"
      ]
     },
     "execution_count": 142,
     "metadata": {},
     "output_type": "execute_result"
    }
   ],
   "source": [
    "df"
   ]
  },
  {
   "cell_type": "markdown",
   "id": "dbbd821c",
   "metadata": {},
   "source": [
    "## Ajout d'une colonne "
   ]
  },
  {
   "cell_type": "code",
   "execution_count": 143,
   "id": "306d3f8e",
   "metadata": {},
   "outputs": [],
   "source": [
    "## On transforme \"BEGIN\" et \"END\" en type date\n",
    "df[\"BEGIN\"] = pd.to_datetime(df[\"BEGIN\"])\n",
    "df[\"END\"] = pd.to_datetime(df[\"END\"])"
   ]
  },
  {
   "cell_type": "code",
   "execution_count": 144,
   "id": "713aaaff",
   "metadata": {},
   "outputs": [
    {
     "name": "stdout",
     "output_type": "stream",
     "text": [
      "<class 'pandas.core.frame.DataFrame'>\n",
      "RangeIndex: 51432 entries, 0 to 51431\n",
      "Data columns (total 5 columns):\n",
      " #   Column      Non-Null Count  Dtype         \n",
      "---  ------      --------------  -----         \n",
      " 0   SITE_NAME   51432 non-null  object        \n",
      " 1   BEGIN       51432 non-null  datetime64[ns]\n",
      " 2   END         51432 non-null  datetime64[ns]\n",
      " 3   KWH_PERIOD  51432 non-null  object        \n",
      " 4   PERIOD_EUR  51432 non-null  object        \n",
      "dtypes: datetime64[ns](2), object(3)\n",
      "memory usage: 2.0+ MB\n"
     ]
    }
   ],
   "source": [
    "df.info()"
   ]
  },
  {
   "cell_type": "code",
   "execution_count": 146,
   "id": "679cf06a",
   "metadata": {},
   "outputs": [
    {
     "ename": "AttributeError",
     "evalue": "module 'datetime' has no attribute 'df'",
     "output_type": "error",
     "traceback": [
      "\u001b[0;31m---------------------------------------------------------------------------\u001b[0m",
      "\u001b[0;31mAttributeError\u001b[0m                            Traceback (most recent call last)",
      "\u001b[0;32m<ipython-input-146-d437c2cb927a>\u001b[0m in \u001b[0;36m<module>\u001b[0;34m\u001b[0m\n\u001b[0;32m----> 1\u001b[0;31m \u001b[0mdf\u001b[0m\u001b[0;34m[\u001b[0m\u001b[0;34m\"DAYS_BEGIN_END\"\u001b[0m\u001b[0;34m]\u001b[0m \u001b[0;34m=\u001b[0m \u001b[0mdt\u001b[0m\u001b[0;34m.\u001b[0m\u001b[0mdf\u001b[0m\u001b[0;34m[\u001b[0m\u001b[0;34m\"END\"\u001b[0m\u001b[0;34m]\u001b[0m \u001b[0;34m-\u001b[0m \u001b[0mdt\u001b[0m\u001b[0;34m.\u001b[0m\u001b[0mdf\u001b[0m\u001b[0;34m[\u001b[0m\u001b[0;34m\"BEGIN\"\u001b[0m\u001b[0;34m]\u001b[0m\u001b[0;34m\u001b[0m\u001b[0;34m\u001b[0m\u001b[0m\n\u001b[0m",
      "\u001b[0;31mAttributeError\u001b[0m: module 'datetime' has no attribute 'df'"
     ]
    }
   ],
   "source": [
    "df[\"DAYS_BEGIN_END\"] = df[\"END\"] - df[\"BEGIN\"]"
   ]
  },
  {
   "cell_type": "code",
   "execution_count": 128,
   "id": "6ae7f1e7",
   "metadata": {},
   "outputs": [
    {
     "data": {
      "text/html": [
       "<div>\n",
       "<style scoped>\n",
       "    .dataframe tbody tr th:only-of-type {\n",
       "        vertical-align: middle;\n",
       "    }\n",
       "\n",
       "    .dataframe tbody tr th {\n",
       "        vertical-align: top;\n",
       "    }\n",
       "\n",
       "    .dataframe thead th {\n",
       "        text-align: right;\n",
       "    }\n",
       "</style>\n",
       "<table border=\"1\" class=\"dataframe\">\n",
       "  <thead>\n",
       "    <tr style=\"text-align: right;\">\n",
       "      <th></th>\n",
       "      <th>SITE_NAME</th>\n",
       "      <th>BEGIN</th>\n",
       "      <th>END</th>\n",
       "      <th>KWH_PERIOD</th>\n",
       "      <th>PERIOD_EUR</th>\n",
       "      <th>DAYS_BEGIN_END</th>\n",
       "    </tr>\n",
       "  </thead>\n",
       "  <tbody>\n",
       "    <tr>\n",
       "      <th>0</th>\n",
       "      <td>0001BB</td>\n",
       "      <td>2018-01-01</td>\n",
       "      <td>2018-01-31</td>\n",
       "      <td>2 447</td>\n",
       "      <td>316,46</td>\n",
       "      <td>30 days</td>\n",
       "    </tr>\n",
       "    <tr>\n",
       "      <th>1</th>\n",
       "      <td>0001BB</td>\n",
       "      <td>2018-01-02</td>\n",
       "      <td>2018-02-28</td>\n",
       "      <td>2 211</td>\n",
       "      <td>286,82</td>\n",
       "      <td>57 days</td>\n",
       "    </tr>\n",
       "    <tr>\n",
       "      <th>2</th>\n",
       "      <td>0001BB</td>\n",
       "      <td>2018-01-03</td>\n",
       "      <td>2018-03-31</td>\n",
       "      <td>2 450</td>\n",
       "      <td>317,32</td>\n",
       "      <td>87 days</td>\n",
       "    </tr>\n",
       "    <tr>\n",
       "      <th>3</th>\n",
       "      <td>0001BB</td>\n",
       "      <td>2018-01-04</td>\n",
       "      <td>2018-04-30</td>\n",
       "      <td>2 431</td>\n",
       "      <td>315,00</td>\n",
       "      <td>116 days</td>\n",
       "    </tr>\n",
       "    <tr>\n",
       "      <th>4</th>\n",
       "      <td>0001BB</td>\n",
       "      <td>2018-01-05</td>\n",
       "      <td>2018-05-31</td>\n",
       "      <td>2 574</td>\n",
       "      <td>333,37</td>\n",
       "      <td>146 days</td>\n",
       "    </tr>\n",
       "    <tr>\n",
       "      <th>...</th>\n",
       "      <td>...</td>\n",
       "      <td>...</td>\n",
       "      <td>...</td>\n",
       "      <td>...</td>\n",
       "      <td>...</td>\n",
       "      <td>...</td>\n",
       "    </tr>\n",
       "    <tr>\n",
       "      <th>51427</th>\n",
       "      <td>0632KO</td>\n",
       "      <td>2019-08-30</td>\n",
       "      <td>2019-12-31</td>\n",
       "      <td>3 028</td>\n",
       "      <td>397,18</td>\n",
       "      <td>123 days</td>\n",
       "    </tr>\n",
       "    <tr>\n",
       "      <th>51428</th>\n",
       "      <td>0632KO</td>\n",
       "      <td>2020-01-01</td>\n",
       "      <td>2020-03-31</td>\n",
       "      <td>2 163</td>\n",
       "      <td>283,57</td>\n",
       "      <td>90 days</td>\n",
       "    </tr>\n",
       "    <tr>\n",
       "      <th>51429</th>\n",
       "      <td>0632KO</td>\n",
       "      <td>2020-01-04</td>\n",
       "      <td>2020-06-30</td>\n",
       "      <td>2 160</td>\n",
       "      <td>312,55</td>\n",
       "      <td>178 days</td>\n",
       "    </tr>\n",
       "    <tr>\n",
       "      <th>51430</th>\n",
       "      <td>0632KO</td>\n",
       "      <td>2020-01-07</td>\n",
       "      <td>2020-09-30</td>\n",
       "      <td>2 230</td>\n",
       "      <td>294,07</td>\n",
       "      <td>267 days</td>\n",
       "    </tr>\n",
       "    <tr>\n",
       "      <th>51431</th>\n",
       "      <td>1203KO</td>\n",
       "      <td>2019-09-27</td>\n",
       "      <td>2019-12-31</td>\n",
       "      <td>4 745</td>\n",
       "      <td>681,96</td>\n",
       "      <td>95 days</td>\n",
       "    </tr>\n",
       "  </tbody>\n",
       "</table>\n",
       "<p>51432 rows × 6 columns</p>\n",
       "</div>"
      ],
      "text/plain": [
       "      SITE_NAME      BEGIN        END KWH_PERIOD PERIOD_EUR DAYS_BEGIN_END\n",
       "0        0001BB 2018-01-01 2018-01-31      2 447     316,46        30 days\n",
       "1        0001BB 2018-01-02 2018-02-28      2 211     286,82        57 days\n",
       "2        0001BB 2018-01-03 2018-03-31      2 450     317,32        87 days\n",
       "3        0001BB 2018-01-04 2018-04-30      2 431     315,00       116 days\n",
       "4        0001BB 2018-01-05 2018-05-31      2 574     333,37       146 days\n",
       "...         ...        ...        ...        ...        ...            ...\n",
       "51427    0632KO 2019-08-30 2019-12-31      3 028     397,18       123 days\n",
       "51428    0632KO 2020-01-01 2020-03-31      2 163     283,57        90 days\n",
       "51429    0632KO 2020-01-04 2020-06-30      2 160     312,55       178 days\n",
       "51430    0632KO 2020-01-07 2020-09-30      2 230     294,07       267 days\n",
       "51431    1203KO 2019-09-27 2019-12-31      4 745     681,96        95 days\n",
       "\n",
       "[51432 rows x 6 columns]"
      ]
     },
     "execution_count": 128,
     "metadata": {},
     "output_type": "execute_result"
    }
   ],
   "source": [
    "df"
   ]
  },
  {
   "cell_type": "code",
   "execution_count": 129,
   "id": "ce83d573",
   "metadata": {},
   "outputs": [],
   "source": [
    "#df[\"DAYS_BEGIN_END\"] = pd.to_datetime(df[\"DAYS_BEGIN_END\"])\n",
    "# df[\"DAYS_BEGIN_END\"] = df[\"DAYS_BEGIN_END\"].values.astype('datetime64[D]')"
   ]
  },
  {
   "cell_type": "code",
   "execution_count": 27,
   "id": "c7778867",
   "metadata": {},
   "outputs": [
    {
     "name": "stdout",
     "output_type": "stream",
     "text": [
      "<class 'pandas.core.frame.DataFrame'>\n",
      "RangeIndex: 51432 entries, 0 to 51431\n",
      "Data columns (total 6 columns):\n",
      " #   Column          Non-Null Count  Dtype          \n",
      "---  ------          --------------  -----          \n",
      " 0   SITE_NAME       51432 non-null  object         \n",
      " 1   BEGIN           51432 non-null  datetime64[ns] \n",
      " 2   END             51432 non-null  datetime64[ns] \n",
      " 3   KWH_PERIOD      51432 non-null  object         \n",
      " 4   PERIOD_EUR      51432 non-null  object         \n",
      " 5   DAYS_BEGIN_END  51432 non-null  timedelta64[ns]\n",
      "dtypes: datetime64[ns](2), object(3), timedelta64[ns](1)\n",
      "memory usage: 2.4+ MB\n"
     ]
    }
   ],
   "source": [
    "df.info()"
   ]
  },
  {
   "cell_type": "markdown",
   "id": "e72a46ce",
   "metadata": {},
   "source": [
    "## Consommation journalière moyenne de la période"
   ]
  },
  {
   "cell_type": "code",
   "execution_count": 26,
   "id": "1089c946",
   "metadata": {},
   "outputs": [],
   "source": [
    "import datetime as dt"
   ]
  },
  {
   "cell_type": "code",
   "execution_count": 38,
   "id": "bab67a7b",
   "metadata": {},
   "outputs": [
    {
     "data": {
      "text/plain": [
       "12105"
      ]
     },
     "execution_count": 38,
     "metadata": {},
     "output_type": "execute_result"
    }
   ],
   "source": [
    "df[\"DAYS_BEGIN_END\"].idxmin()"
   ]
  },
  {
   "cell_type": "code",
   "execution_count": 39,
   "id": "16274be8",
   "metadata": {},
   "outputs": [
    {
     "data": {
      "text/plain": [
       "SITE_NAME          13074_GEO (0195KO)\n",
       "BEGIN             2019-08-29 00:00:00\n",
       "END               2019-01-10 00:00:00\n",
       "KWH_PERIOD                      1 603\n",
       "PERIOD_EUR                     293,35\n",
       "DAYS_BEGIN_END    -231 days +00:00:00\n",
       "Name: 12105, dtype: object"
      ]
     },
     "execution_count": 39,
     "metadata": {},
     "output_type": "execute_result"
    }
   ],
   "source": [
    "df.iloc[12105]"
   ]
  },
  {
   "cell_type": "code",
   "execution_count": 67,
   "id": "d5af3a86",
   "metadata": {},
   "outputs": [],
   "source": [
    "#df[\"CONSO_DAY_MEAN\"] = \n",
    "#df[\"KWH_PERIOD\"]\n",
    "#[df[\"DAYS_BEGIN_END\"] > 30]"
   ]
  },
  {
   "cell_type": "markdown",
   "id": "6066a6d0",
   "metadata": {},
   "source": [
    "### 4) A partir de cette nouvelle colonne, crée une autre colonne qui nous donne la consommation journalière moyenne de la période."
   ]
  },
  {
   "cell_type": "code",
   "execution_count": null,
   "id": "afbeb380",
   "metadata": {},
   "outputs": [],
   "source": [
    "df[\"\"] ="
   ]
  },
  {
   "cell_type": "markdown",
   "id": "92d9fddb",
   "metadata": {},
   "source": [
    "### 5) Merci d'ajouter également une colonne qui donne, pour chaque antenne, le nombre de factures dont on dispose au total. Pas grave si l'information se répète à chaque ligne pour une même antenne."
   ]
  },
  {
   "cell_type": "code",
   "execution_count": null,
   "id": "645b8125",
   "metadata": {},
   "outputs": [],
   "source": [
    "df[\"\"] ="
   ]
  },
  {
   "cell_type": "markdown",
   "id": "67a6eaf7",
   "metadata": {},
   "source": [
    "### 6) Et information bonus si tu y arrives : les équipes aimeraient beaucoup avoir une liste de toutes les antennes avec, pour chaque antenne, le coefficient de variation de la consommation. Cela permettra d'avoir une idée, pour chaque antenne, de la dispersion de sa consommation d'énergie."
   ]
  },
  {
   "cell_type": "code",
   "execution_count": null,
   "id": "4a1316dc",
   "metadata": {},
   "outputs": [],
   "source": [
    "def coefficient_of_variation(site_name):\n",
    "    return df.loc[df['SITE_NAME_CLEANED'] == site_name][\"PERIOD_EUR\"].astype(float).std() / df.loc[df['SITE_NAME_CLEANED'] == site_name][\"PERIOD_EUR\"].astype(float).mean()\n",
    "    \n",
    "df[\"VARIATION_COEFFICIENT\"] = df[\"SITE_NAME_CLEANED\"].apply(calculate_nb_invoice_per_site_name)"
   ]
  },
  {
   "cell_type": "markdown",
   "id": "d2dbaa37",
   "metadata": {},
   "source": [
    "### 7) Enfin, tu dois exporter ces deux fichiers obtenus pour pouvoir l'envoyer aux équipes de l'opérateur et leur demander si c'est bien cela qu'ils attendaient de toi.\n",
    "\n"
   ]
  },
  {
   "cell_type": "code",
   "execution_count": null,
   "id": "fe164868",
   "metadata": {},
   "outputs": [],
   "source": []
  }
 ],
 "metadata": {
  "kernelspec": {
   "display_name": "Python 3",
   "language": "python",
   "name": "python3"
  },
  "language_info": {
   "codemirror_mode": {
    "name": "ipython",
    "version": 3
   },
   "file_extension": ".py",
   "mimetype": "text/x-python",
   "name": "python",
   "nbconvert_exporter": "python",
   "pygments_lexer": "ipython3",
   "version": "3.8.8"
  }
 },
 "nbformat": 4,
 "nbformat_minor": 5
}
